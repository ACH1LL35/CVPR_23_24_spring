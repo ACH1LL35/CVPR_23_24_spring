{
 "cells": [
  {
   "cell_type": "code",
   "execution_count": 20,
   "id": "2a60c684",
   "metadata": {},
   "outputs": [
    {
     "name": "stdout",
     "output_type": "stream",
     "text": [
      "Sum of all elements in the list: 385\n"
     ]
    }
   ],
   "source": [
    "#List Operation\n",
    "numbers = list(range(1, 11))\n",
    "squared_numbers = [num ** 2 for num in numbers]\n",
    "sum_of_numbers = sum(squared_numbers)\n",
    "print(\"Sum of all elements in the list:\", sum_of_numbers)"
   ]
  },
  {
   "cell_type": "code",
   "execution_count": 21,
   "id": "96b45087",
   "metadata": {},
   "outputs": [
    {
     "name": "stdout",
     "output_type": "stream",
     "text": [
      "Product of all elements in the tuple: 3840\n"
     ]
    }
   ],
   "source": [
    "#tuple operation\n",
    "even_numbers_tuple = (2, 4, 6, 8, 10)\n",
    "product_of_numbers = 1\n",
    "for num in even_numbers_tuple:\n",
    "    product_of_numbers *= num\n",
    "print(\"Product of all elements in the tuple:\", product_of_numbers)"
   ]
  },
  {
   "cell_type": "code",
   "execution_count": 22,
   "id": "2380b4b5",
   "metadata": {},
   "outputs": [
    {
     "name": "stdout",
     "output_type": "stream",
     "text": [
      "Union of the two sets: {1, 3, 5, 7, 9}\n",
      "Intersection of the two sets: {1, 3, 5, 7}\n"
     ]
    }
   ],
   "source": [
    "#set operation\n",
    "odd_numbers_set1 = {1, 3, 5, 7, 9}\n",
    "odd_numbers_set2 = {1, 3, 5, 7}\n",
    "union_set = odd_numbers_set1.union(odd_numbers_set2)\n",
    "print(\"Union of the two sets:\", union_set)\n",
    "intersection_set = odd_numbers_set1.intersection(odd_numbers_set2)\n",
    "print(\"Intersection of the two sets:\", intersection_set)"
   ]
  },
  {
   "cell_type": "code",
   "execution_count": 23,
   "id": "bdbd2791",
   "metadata": {},
   "outputs": [
    {
     "name": "stdout",
     "output_type": "stream",
     "text": [
      "lowercase alphabets and ASCII values: {'a': 97, 'b': 98, 'c': 99, 'd': 100, 'e': 101}\n"
     ]
    }
   ],
   "source": [
    "#dictionary operation\n",
    "ascii_dict = {chr(97 + i): ord(chr(97 + i)) for i in range(5)}\n",
    "print(\"lowercase alphabets and ASCII values:\", ascii_dict)"
   ]
  },
  {
   "cell_type": "code",
   "execution_count": 24,
   "id": "8559fd00",
   "metadata": {},
   "outputs": [
    {
     "name": "stdout",
     "output_type": "stream",
     "text": [
      "Result after applying map: [1, 4, 9, 16, 25, 36, 49, 64, 81, 100]\n"
     ]
    }
   ],
   "source": [
    "#function prog\n",
    "def square(x):\n",
    "    return x ** 2\n",
    "mapped_result = list(map(square, range(1, 11)))\n",
    "print(\"Result after applying map:\", mapped_result)"
   ]
  },
  {
   "cell_type": "code",
   "execution_count": null,
   "id": "9b624527",
   "metadata": {},
   "outputs": [],
   "source": []
  }
 ],
 "metadata": {
  "kernelspec": {
   "display_name": "Python 3 (ipykernel)",
   "language": "python",
   "name": "python3"
  },
  "language_info": {
   "codemirror_mode": {
    "name": "ipython",
    "version": 3
   },
   "file_extension": ".py",
   "mimetype": "text/x-python",
   "name": "python",
   "nbconvert_exporter": "python",
   "pygments_lexer": "ipython3",
   "version": "3.11.5"
  },
  "varInspector": {
   "cols": {
    "lenName": 16,
    "lenType": 16,
    "lenVar": 40
   },
   "kernels_config": {
    "python": {
     "delete_cmd_postfix": "",
     "delete_cmd_prefix": "del ",
     "library": "var_list.py",
     "varRefreshCmd": "print(var_dic_list())"
    },
    "r": {
     "delete_cmd_postfix": ") ",
     "delete_cmd_prefix": "rm(",
     "library": "var_list.r",
     "varRefreshCmd": "cat(var_dic_list()) "
    }
   },
   "types_to_exclude": [
    "module",
    "function",
    "builtin_function_or_method",
    "instance",
    "_Feature"
   ],
   "window_display": false
  }
 },
 "nbformat": 4,
 "nbformat_minor": 5
}
